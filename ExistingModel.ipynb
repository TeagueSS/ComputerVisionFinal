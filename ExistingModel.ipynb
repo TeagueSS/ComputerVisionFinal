{
 "cells": [
  {
   "metadata": {
    "ExecuteTime": {
     "end_time": "2025-05-07T23:49:48.409314Z",
     "start_time": "2025-05-07T23:49:39.568744Z"
    }
   },
   "cell_type": "code",
   "source": [
    "\n",
    "\n",
    "# Importing our Libraries \n",
    "import torch\n",
    "from ultralytics import YOLO\n",
    "# Ensuring my torch backend is available\n",
    "print(torch.backends.mps.is_available())\n",
    "# Attempting to load their model ->\n",
    "\n",
    "# Load a base model\n",
    "model = YOLO('yolov8n.pt')\n",
    "\n",
    "# Customize the model to add distance estimation\n",
    "# This would involve extending the model's head to output distance values\n",
    "# Similar to how Dist-YOLO added distance to the prediction vector"
   ],
   "id": "5bc5af02b4504aa1",
   "outputs": [
    {
     "name": "stdout",
     "output_type": "stream",
     "text": [
      "Creating new Ultralytics Settings v0.0.6 file ✅ \n",
      "View Ultralytics Settings with 'yolo settings' or at '/Users/teaguesangster/Library/Application Support/Ultralytics/settings.json'\n",
      "Update Settings with 'yolo settings key=value', i.e. 'yolo settings runs_dir=path/to/dir'. For help see https://docs.ultralytics.com/quickstart/#ultralytics-settings.\n",
      "True\n",
      "Downloading https://github.com/ultralytics/assets/releases/download/v8.3.0/yolov8n.pt to 'yolov8n.pt'...\n"
     ]
    },
    {
     "name": "stderr",
     "output_type": "stream",
     "text": [
      "/opt/anaconda3/envs/yolo-dist/lib/python3.10/site-packages/requests/__init__.py:86: RequestsDependencyWarning: Unable to find acceptable character detection dependency (chardet or charset_normalizer).\n",
      "  warnings.warn(\n",
      "100%|██████████| 6.25M/6.25M [00:00<00:00, 7.86MB/s]\n"
     ]
    }
   ],
   "execution_count": 3
  },
  {
   "metadata": {},
   "cell_type": "markdown",
   "source": "In order to compare our project against other people's implementation we need to run a fine tuned version of Yolo with object weights. \n",
   "id": "97cfc805f09a9160"
  }
 ],
 "metadata": {
  "kernelspec": {
   "display_name": "Python 3",
   "language": "python",
   "name": "python3"
  },
  "language_info": {
   "codemirror_mode": {
    "name": "ipython",
    "version": 2
   },
   "file_extension": ".py",
   "mimetype": "text/x-python",
   "name": "python",
   "nbconvert_exporter": "python",
   "pygments_lexer": "ipython2",
   "version": "2.7.6"
  }
 },
 "nbformat": 4,
 "nbformat_minor": 5
}
