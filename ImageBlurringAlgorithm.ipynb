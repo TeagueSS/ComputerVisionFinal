{
  "nbformat": 4,
  "nbformat_minor": 0,
  "metadata": {
    "colab": {
      "provenance": []
    },
    "kernelspec": {
      "name": "python3",
      "display_name": "Python 3"
    },
    "language_info": {
      "name": "python"
    }
  },
  "cells": [
    {
      "cell_type": "code",
      "execution_count": 10,
      "metadata": {
        "id": "QaoMwjlHDCxZ"
      },
      "outputs": [],
      "source": [
        "import cv2\n",
        "import numpy as np\n",
        "from typing import Tuple, List"
      ]
    },
    {
      "cell_type": "code",
      "source": [
        "!pip install ultralytics"
      ],
      "metadata": {
        "colab": {
          "base_uri": "https://localhost:8080/"
        },
        "id": "p9-UUorMHLl2",
        "outputId": "125de40e-8a38-4aae-a3e3-da8d1173f0d2"
      },
      "execution_count": 11,
      "outputs": [
        {
          "output_type": "stream",
          "name": "stdout",
          "text": [
            "Requirement already satisfied: ultralytics in /usr/local/lib/python3.11/dist-packages (8.3.131)\n",
            "Requirement already satisfied: numpy>=1.23.0 in /usr/local/lib/python3.11/dist-packages (from ultralytics) (2.0.2)\n",
            "Requirement already satisfied: matplotlib>=3.3.0 in /usr/local/lib/python3.11/dist-packages (from ultralytics) (3.10.0)\n",
            "Requirement already satisfied: opencv-python>=4.6.0 in /usr/local/lib/python3.11/dist-packages (from ultralytics) (4.11.0.86)\n",
            "Requirement already satisfied: pillow>=7.1.2 in /usr/local/lib/python3.11/dist-packages (from ultralytics) (11.2.1)\n",
            "Requirement already satisfied: pyyaml>=5.3.1 in /usr/local/lib/python3.11/dist-packages (from ultralytics) (6.0.2)\n",
            "Requirement already satisfied: requests>=2.23.0 in /usr/local/lib/python3.11/dist-packages (from ultralytics) (2.32.3)\n",
            "Requirement already satisfied: scipy>=1.4.1 in /usr/local/lib/python3.11/dist-packages (from ultralytics) (1.15.2)\n",
            "Requirement already satisfied: torch>=1.8.0 in /usr/local/lib/python3.11/dist-packages (from ultralytics) (2.6.0+cu124)\n",
            "Requirement already satisfied: torchvision>=0.9.0 in /usr/local/lib/python3.11/dist-packages (from ultralytics) (0.21.0+cu124)\n",
            "Requirement already satisfied: tqdm>=4.64.0 in /usr/local/lib/python3.11/dist-packages (from ultralytics) (4.67.1)\n",
            "Requirement already satisfied: psutil in /usr/local/lib/python3.11/dist-packages (from ultralytics) (5.9.5)\n",
            "Requirement already satisfied: py-cpuinfo in /usr/local/lib/python3.11/dist-packages (from ultralytics) (9.0.0)\n",
            "Requirement already satisfied: pandas>=1.1.4 in /usr/local/lib/python3.11/dist-packages (from ultralytics) (2.2.2)\n",
            "Requirement already satisfied: seaborn>=0.11.0 in /usr/local/lib/python3.11/dist-packages (from ultralytics) (0.13.2)\n",
            "Requirement already satisfied: ultralytics-thop>=2.0.0 in /usr/local/lib/python3.11/dist-packages (from ultralytics) (2.0.14)\n",
            "Requirement already satisfied: contourpy>=1.0.1 in /usr/local/lib/python3.11/dist-packages (from matplotlib>=3.3.0->ultralytics) (1.3.2)\n",
            "Requirement already satisfied: cycler>=0.10 in /usr/local/lib/python3.11/dist-packages (from matplotlib>=3.3.0->ultralytics) (0.12.1)\n",
            "Requirement already satisfied: fonttools>=4.22.0 in /usr/local/lib/python3.11/dist-packages (from matplotlib>=3.3.0->ultralytics) (4.57.0)\n",
            "Requirement already satisfied: kiwisolver>=1.3.1 in /usr/local/lib/python3.11/dist-packages (from matplotlib>=3.3.0->ultralytics) (1.4.8)\n",
            "Requirement already satisfied: packaging>=20.0 in /usr/local/lib/python3.11/dist-packages (from matplotlib>=3.3.0->ultralytics) (24.2)\n",
            "Requirement already satisfied: pyparsing>=2.3.1 in /usr/local/lib/python3.11/dist-packages (from matplotlib>=3.3.0->ultralytics) (3.2.3)\n",
            "Requirement already satisfied: python-dateutil>=2.7 in /usr/local/lib/python3.11/dist-packages (from matplotlib>=3.3.0->ultralytics) (2.9.0.post0)\n",
            "Requirement already satisfied: pytz>=2020.1 in /usr/local/lib/python3.11/dist-packages (from pandas>=1.1.4->ultralytics) (2025.2)\n",
            "Requirement already satisfied: tzdata>=2022.7 in /usr/local/lib/python3.11/dist-packages (from pandas>=1.1.4->ultralytics) (2025.2)\n",
            "Requirement already satisfied: charset-normalizer<4,>=2 in /usr/local/lib/python3.11/dist-packages (from requests>=2.23.0->ultralytics) (3.4.1)\n",
            "Requirement already satisfied: idna<4,>=2.5 in /usr/local/lib/python3.11/dist-packages (from requests>=2.23.0->ultralytics) (3.10)\n",
            "Requirement already satisfied: urllib3<3,>=1.21.1 in /usr/local/lib/python3.11/dist-packages (from requests>=2.23.0->ultralytics) (2.4.0)\n",
            "Requirement already satisfied: certifi>=2017.4.17 in /usr/local/lib/python3.11/dist-packages (from requests>=2.23.0->ultralytics) (2025.4.26)\n",
            "Requirement already satisfied: filelock in /usr/local/lib/python3.11/dist-packages (from torch>=1.8.0->ultralytics) (3.18.0)\n",
            "Requirement already satisfied: typing-extensions>=4.10.0 in /usr/local/lib/python3.11/dist-packages (from torch>=1.8.0->ultralytics) (4.13.2)\n",
            "Requirement already satisfied: networkx in /usr/local/lib/python3.11/dist-packages (from torch>=1.8.0->ultralytics) (3.4.2)\n",
            "Requirement already satisfied: jinja2 in /usr/local/lib/python3.11/dist-packages (from torch>=1.8.0->ultralytics) (3.1.6)\n",
            "Requirement already satisfied: fsspec in /usr/local/lib/python3.11/dist-packages (from torch>=1.8.0->ultralytics) (2025.3.2)\n",
            "Requirement already satisfied: nvidia-cuda-nvrtc-cu12==12.4.127 in /usr/local/lib/python3.11/dist-packages (from torch>=1.8.0->ultralytics) (12.4.127)\n",
            "Requirement already satisfied: nvidia-cuda-runtime-cu12==12.4.127 in /usr/local/lib/python3.11/dist-packages (from torch>=1.8.0->ultralytics) (12.4.127)\n",
            "Requirement already satisfied: nvidia-cuda-cupti-cu12==12.4.127 in /usr/local/lib/python3.11/dist-packages (from torch>=1.8.0->ultralytics) (12.4.127)\n",
            "Requirement already satisfied: nvidia-cudnn-cu12==9.1.0.70 in /usr/local/lib/python3.11/dist-packages (from torch>=1.8.0->ultralytics) (9.1.0.70)\n",
            "Requirement already satisfied: nvidia-cublas-cu12==12.4.5.8 in /usr/local/lib/python3.11/dist-packages (from torch>=1.8.0->ultralytics) (12.4.5.8)\n",
            "Requirement already satisfied: nvidia-cufft-cu12==11.2.1.3 in /usr/local/lib/python3.11/dist-packages (from torch>=1.8.0->ultralytics) (11.2.1.3)\n",
            "Requirement already satisfied: nvidia-curand-cu12==10.3.5.147 in /usr/local/lib/python3.11/dist-packages (from torch>=1.8.0->ultralytics) (10.3.5.147)\n",
            "Requirement already satisfied: nvidia-cusolver-cu12==11.6.1.9 in /usr/local/lib/python3.11/dist-packages (from torch>=1.8.0->ultralytics) (11.6.1.9)\n",
            "Requirement already satisfied: nvidia-cusparse-cu12==12.3.1.170 in /usr/local/lib/python3.11/dist-packages (from torch>=1.8.0->ultralytics) (12.3.1.170)\n",
            "Requirement already satisfied: nvidia-cusparselt-cu12==0.6.2 in /usr/local/lib/python3.11/dist-packages (from torch>=1.8.0->ultralytics) (0.6.2)\n",
            "Requirement already satisfied: nvidia-nccl-cu12==2.21.5 in /usr/local/lib/python3.11/dist-packages (from torch>=1.8.0->ultralytics) (2.21.5)\n",
            "Requirement already satisfied: nvidia-nvtx-cu12==12.4.127 in /usr/local/lib/python3.11/dist-packages (from torch>=1.8.0->ultralytics) (12.4.127)\n",
            "Requirement already satisfied: nvidia-nvjitlink-cu12==12.4.127 in /usr/local/lib/python3.11/dist-packages (from torch>=1.8.0->ultralytics) (12.4.127)\n",
            "Requirement already satisfied: triton==3.2.0 in /usr/local/lib/python3.11/dist-packages (from torch>=1.8.0->ultralytics) (3.2.0)\n",
            "Requirement already satisfied: sympy==1.13.1 in /usr/local/lib/python3.11/dist-packages (from torch>=1.8.0->ultralytics) (1.13.1)\n",
            "Requirement already satisfied: mpmath<1.4,>=1.1.0 in /usr/local/lib/python3.11/dist-packages (from sympy==1.13.1->torch>=1.8.0->ultralytics) (1.3.0)\n",
            "Requirement already satisfied: six>=1.5 in /usr/local/lib/python3.11/dist-packages (from python-dateutil>=2.7->matplotlib>=3.3.0->ultralytics) (1.17.0)\n",
            "Requirement already satisfied: MarkupSafe>=2.0 in /usr/local/lib/python3.11/dist-packages (from jinja2->torch>=1.8.0->ultralytics) (3.0.2)\n"
          ]
        }
      ]
    },
    {
      "cell_type": "markdown",
      "source": [
        "###The Function below uses a provided distance map to apply a spatially varying Gaussian blur to an image\n",
        "\n",
        "For our implementation purposes, the distance map specifically assumes increasing distance from bottom of the image to the top of the image"
      ],
      "metadata": {
        "id": "K0Ioa_NrN72l"
      }
    },
    {
      "cell_type": "code",
      "source": [
        "def spatially_varying_gaussian_blur(image: np.ndarray, distance_map: np.ndarray, blur_start: float, blur_growth_rate: float, num_levels: int = 5) -> np.ndarray:\n",
        "\n",
        "    # Make sure the distance_map has the same shape as image\n",
        "    if distance_map.shape != image.shape[:2]:\n",
        "        distance_map = cv2.resize(distance_map, (image.shape[1], image.shape[0]))\n",
        "\n",
        "    # 1. Calculate Continuous Sigma Map\n",
        "    sigma_map = np.zeros_like(distance_map, dtype=float)\n",
        "    mask = distance_map > blur_start\n",
        "    sigma_map[mask] = (distance_map[mask] - blur_start) * blur_growth_rate\n",
        "    sigma_map = np.maximum(0, sigma_map)  # Make sure the sigma is non-negative\n",
        "\n",
        "    # 2. Define Discrete Levels\n",
        "    max_sigma = np.max(sigma_map)\n",
        "    if max_sigma == 0:\n",
        "        return image.copy()\n",
        "\n",
        "    sigma_levels = np.linspace(0, max_sigma, num_levels)\n",
        "    # Make sure sigma_levels[0] is exactly 0\n",
        "    sigma_levels[0] = 0\n",
        "\n",
        "    # Calculate corresponding kernel sizes (odd integers)\n",
        "    kernel_sizes = [\n",
        "        max(1, int(round(6 * sigma)) * 2 + 1) if sigma > 0 else 1\n",
        "        for sigma in sigma_levels\n",
        "    ]\n",
        "\n",
        "    # 3. Pre-compute Blurred Images\n",
        "    blurred_images = []\n",
        "    for i in range(num_levels):\n",
        "        if sigma_levels[i] > 0:\n",
        "            ksize = kernel_sizes[i]\n",
        "            # Make sure the kernel size is odd\n",
        "            if ksize % 2 == 0:\n",
        "                ksize += 1\n",
        "            blurred_images.append(\n",
        "                cv2.GaussianBlur(image, (ksize, ksize), sigma_levels[i])\n",
        "            )\n",
        "        else:\n",
        "            blurred_images.append(image.copy())  # If sigma is 0, use the original image\n",
        "\n",
        "    # 4. Create Masks and Composite\n",
        "    composite_image = np.zeros_like(image, dtype=float)\n",
        "\n",
        "    # lowest blur level (level 0)\n",
        "    mask = sigma_map <= (sigma_levels[1] / 2) if num_levels > 1 else np.ones_like(sigma_map, dtype=bool)\n",
        "    mask = mask[..., np.newaxis]  # Add channel dimension\n",
        "    composite_image = np.where(mask, blurred_images[0], composite_image)\n",
        "\n",
        "    # intermediate blur level\n",
        "    for i in range(1, num_levels - 1):\n",
        "        lower_threshold = (sigma_levels[i-1] + sigma_levels[i]) / 2\n",
        "        upper_threshold = (sigma_levels[i] + sigma_levels[i+1]) / 2\n",
        "        mask = (sigma_map > lower_threshold) & (sigma_map <= upper_threshold)\n",
        "        mask = mask[..., np.newaxis]  # Add channel dimension\n",
        "        composite_image = np.where(mask, blurred_images[i], composite_image)\n",
        "\n",
        "    # highest blur level\n",
        "    if num_levels > 1:\n",
        "        mask = sigma_map > ((sigma_levels[-2] + sigma_levels[-1]) / 2)\n",
        "        mask = mask[..., np.newaxis]  # Add channel dimension\n",
        "        composite_image = np.where(mask, blurred_images[-1], composite_image)\n",
        "\n",
        "    return composite_image.astype(np.uint8)"
      ],
      "metadata": {
        "id": "IRnOj8aeHNGd"
      },
      "execution_count": 12,
      "outputs": []
    },
    {
      "cell_type": "markdown",
      "source": [
        "### The function below uses a distance_map to apply a spacially varying Gaussian blur to a given image using two-passes.\n",
        "\n",
        "The two-pass blurring technique is a technique where the background and foreground are blurred seperately then combined.\n",
        "\n",
        "Two-pass was chosen because it is faster and more efficient than a full 2D convolution. Efficiency is important because our dataset we process is 7000 images"
      ],
      "metadata": {
        "id": "bll-zEfEOS8U"
      }
    },
    {
      "cell_type": "code",
      "source": [
        "def two_pass_blur(image: np.ndarray, segmentation_mask: np.ndarray, distance_map: np.ndarray, blur_start: float, blur_growth_rate: float, num_levels: int = 5) -> np.ndarray:\n",
        "\n",
        "    # Make sure the segmentation_mask has the correct shape and is a boolean array\n",
        "    segmentation_mask = cv2.resize(segmentation_mask, (image.shape[1], image.shape[0]))\n",
        "    segmentation_mask = segmentation_mask.astype(bool)\n",
        "\n",
        "    # Ensure distance_map matches the image shape\n",
        "    if distance_map.shape != image.shape[:2]:\n",
        "        distance_map = cv2.resize(distance_map, (image.shape[1], image.shape[0]))\n",
        "\n",
        "    # 1. Background Blurring\n",
        "    # Create a mask to prevent blurring the foreground\n",
        "    bg_mask = ~segmentation_mask  # Invert the mask\n",
        "    bg_distance_map = np.where(bg_mask, distance_map, 0)  # Only blur the background\n",
        "    blurred_background = spatially_varying_gaussian_blur(\n",
        "        image, bg_distance_map, blur_start, blur_growth_rate, num_levels\n",
        "    )\n",
        "\n",
        "    # 2. Foreground Blurring\n",
        "    # Create a mask to isolate the foreground\n",
        "    fg_mask = segmentation_mask\n",
        "    fg_distance_map = np.where(fg_mask, distance_map, 0)  # Only blur the foreground\n",
        "    blurred_foreground = spatially_varying_gaussian_blur(\n",
        "        image, fg_distance_map, blur_start, blur_growth_rate, num_levels\n",
        "    )\n",
        "\n",
        "    # 3. Final Composition\n",
        "    # Add channel dimension to mask for broadcasting if needed\n",
        "    if len(segmentation_mask.shape) == 2 and len(image.shape) == 3:\n",
        "        mask_3d = segmentation_mask[..., np.newaxis]\n",
        "    else:\n",
        "        mask_3d = segmentation_mask\n",
        "\n",
        "    # Combine the blurred background and foreground\n",
        "    final_image = np.where(mask_3d, blurred_foreground, blurred_background)\n",
        "    return final_image.astype(np.uint8)"
      ],
      "metadata": {
        "id": "EaVBiLmjKVWA"
      },
      "execution_count": 13,
      "outputs": []
    },
    {
      "cell_type": "markdown",
      "source": [
        "### The function below uses Ultralytics YOLO we imported earlier to segment the foreground object in the image"
      ],
      "metadata": {
        "id": "CbofAOX6OcDK"
      }
    },
    {
      "cell_type": "code",
      "source": [
        "def segment_with_yolo(image: np.ndarray) -> Tuple[np.ndarray, np.ndarray]:\n",
        "\n",
        "    try:\n",
        "        from ultralytics import YOLO\n",
        "    except ImportError:\n",
        "        raise ImportError(\n",
        "            \"Ultralytics YOLO is required. Install it with: pip install ultralytics\"\n",
        "        )\n",
        "\n",
        "    # Load pre-trained YOLOv8 segmentation model\n",
        "    model = YOLO('yolov8s-seg.pt')\n",
        "\n",
        "    # Run inference on the image\n",
        "    results = model.predict(image)\n",
        "\n",
        "    # Check if any objects were detected\n",
        "    if len(results) == 0 or results[0].masks is None:\n",
        "        print(\"No objects detected by YOLO.\")\n",
        "        return image, np.zeros(image.shape[:2], dtype=np.uint8)  # Return an empty mask\n",
        "\n",
        "    # Extract the mask for the first detected object\n",
        "    mask = results[0].masks.data[0].cpu().numpy()\n",
        "\n",
        "    # Convert mask to 0s and 1s\n",
        "    mask = (mask > 0.5).astype(np.uint8)\n",
        "\n",
        "    # Resize mask to match image dimensions if necessary\n",
        "    if mask.shape != image.shape[:2]:\n",
        "        mask = cv2.resize(mask, (image.shape[1], image.shape[0]))\n",
        "\n",
        "    # Return original image and mask\n",
        "    return image, mask"
      ],
      "metadata": {
        "id": "7a8J9fliMHZq"
      },
      "execution_count": 14,
      "outputs": []
    },
    {
      "cell_type": "markdown",
      "source": [
        "### The function below creates a distance_map.\n",
        "\n",
        "For our implementation, we made the distance map increase from the bottom to the top of the image because the objects at the bottom of the image are typically closer to the camera lens and the objects at the top."
      ],
      "metadata": {
        "id": "OoVy9yUEOh5H"
      }
    },
    {
      "cell_type": "code",
      "source": [
        "def create_bottom_to_top_distance_map(image_shape: Tuple[int, int], min_distance: float, max_distance: float) -> np.ndarray:\n",
        "\n",
        "    height, width = image_shape\n",
        "    # Create distance values from top to bottom of image\n",
        "    distance_map = np.linspace(max_distance, min_distance, height)\n",
        "    # Expand to 2D\n",
        "    distance_map = np.tile(distance_map[:, np.newaxis], (1, width))\n",
        "    return distance_map"
      ],
      "metadata": {
        "id": "OmOqgUP7MivB"
      },
      "execution_count": 15,
      "outputs": []
    },
    {
      "cell_type": "markdown",
      "source": [
        "### Below is the main method that executes the above functions in correct order with proper arguements"
      ],
      "metadata": {
        "id": "b1LcgH6NOoD4"
      }
    },
    {
      "cell_type": "code",
      "source": [
        "def main():\n",
        "\n",
        "    # 1. Load an image\n",
        "    image_path = \"/content/drive/MyDrive/testerimage.jpg\"  # Imagepath, will be replaced every time we process a new image from the dataset\n",
        "    image = cv2.imread(image_path)\n",
        "    if image is None:\n",
        "        print(f\"Error: Could not read image at {image_path}\")\n",
        "        return\n",
        "\n",
        "    # Convert BGR to RGB for YOLO\n",
        "    image_rgb = cv2.cvtColor(image, cv2.COLOR_BGR2RGB)\n",
        "\n",
        "    # 2. Segment the image using YOLO\n",
        "    _, segmentation_mask = segment_with_yolo(image_rgb)\n",
        "\n",
        "    # Check if the segmentation mask is empty\n",
        "    if np.sum(segmentation_mask) == 0:\n",
        "        print(\"No valid segmentation mask obtained. Exiting.\")\n",
        "        return\n",
        "\n",
        "    # 3. Create a distance map that increases from bottom to top\n",
        "    height, width = image.shape[:2]\n",
        "    distance_map = create_bottom_to_top_distance_map(\n",
        "        image_shape=(height, width),\n",
        "        min_distance=10,  # Distance value at the bottom\n",
        "        max_distance=100  # Distance value at the top\n",
        "    )\n",
        "\n",
        "    # 4. Set blurring parameters\n",
        "    blur_start = 30.0\n",
        "    blur_growth_rate = 0.1\n",
        "    num_levels = 5  # Number of discrete blur levels\n",
        "\n",
        "    # 5. Apply the two-pass blur\n",
        "    final_image = two_pass_blur(image, segmentation_mask, distance_map, blur_start, blur_growth_rate, num_levels)\n",
        "\n",
        "    # 6. Save the results\n",
        "    cv2.imwrite(\"original_image.jpg\", image)\n",
        "    cv2.imwrite(\"segmentation_mask.jpg\", segmentation_mask * 255)\n",
        "\n",
        "    # Visualize the distance map\n",
        "    normalized_distance_map = cv2.normalize(distance_map, None, 0, 255, cv2.NORM_MINMAX).astype(np.uint8)\n",
        "    distance_map_colored = cv2.applyColorMap(normalized_distance_map, cv2.COLORMAP_JET)\n",
        "    cv2.imwrite(\"distance_map.jpg\", distance_map_colored)\n",
        "\n",
        "    cv2.imwrite(\"final_blurred_image.jpg\", final_image)\n",
        "\n",
        "    # 7. Display the results\n",
        "    try:\n",
        "        cv2.imshow(\"Original Image\", image)\n",
        "        cv2.imshow(\"Segmentation Mask\", segmentation_mask * 255)\n",
        "        cv2.imshow(\"Distance Map\", distance_map_colored)\n",
        "        cv2.imshow(\"Final Blurred Image\", final_image)\n",
        "        cv2.waitKey(0)\n",
        "        cv2.destroyAllWindows()\n",
        "    except:\n",
        "        print(\"Images saved but not displayed\")\n",
        "\n",
        "if __name__ == \"__main__\":\n",
        "    main()"
      ],
      "metadata": {
        "colab": {
          "base_uri": "https://localhost:8080/"
        },
        "id": "N4S-q6lRNROg",
        "outputId": "c6313841-3e7f-470f-e873-36e9c391a876"
      },
      "execution_count": 16,
      "outputs": [
        {
          "output_type": "stream",
          "name": "stdout",
          "text": [
            "Error: Could not read image at /content/drive/MyDrive/testerimage.jpg\n"
          ]
        }
      ]
    }
  ]
}